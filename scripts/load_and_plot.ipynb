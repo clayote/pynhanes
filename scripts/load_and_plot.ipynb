{
 "cells": [
  {
   "cell_type": "code",
   "execution_count": null,
   "metadata": {},
   "outputs": [],
   "source": [
    "%reload_ext autoreload\n",
    "%autoreload 2\n",
    "\n",
    "import numpy as np\n",
    "import pylab as plt\n",
    "import pynhanes\n",
    "from pynhanes.loader import NhanesLoader, CodeBook"
   ]
  },
  {
   "cell_type": "markdown",
   "metadata": {},
   "source": [
    "## User-defined dictionary of combined varibles\n",
    "\n",
    "Normally, data analysis does not require all variables from each NHANES category. \n",
    "\n",
    "`pynhanes` expects user to provide a manually created dictionary of needed variables with human-readable names and corresponding combination of variable codes. This can be done in either two ways:\n",
    "\n",
    "a) Hardcoded explicitly (see next cell), or\n",
    "\n",
    "b) Provided in a .json file (see https://github.com/timpyrkov/pyutils/blob/master/scripts/nhanes_variables.json)\n",
    "\n"
   ]
  },
  {
   "cell_type": "code",
   "execution_count": null,
   "metadata": {},
   "outputs": [],
   "source": [
    "\"\"\" Provide selected variables combinations explicitly: \"\"\"\n",
    "variables = {\n",
    "    \"Age\":                                      [\"RIDAGEYR\"],\n",
    "    \"Gender\":                                   [\"RIAGENDR\"],\n",
    "    \"Survey\":                                   [\"SDDSRVYR\"],\n",
    "    \"Mortality event\":                          [\"MORTSTAT\"],\n",
    "    \"Mortality tte\":                            [\"PERMTH_INT\"],\n",
    "    \"Health general\":                           [\"HSD010\"],\n",
    "    \"Smoking status\":                           [\"SMQ020\", \"SMQ120\", \"SMQ150\"],\n",
    "    \"Smoking regularly\":                        [\"SMD030\", \"SMD130\", \"SMD160\"],\n",
    "    \"Smoking now\":                              [\"SMQ040\", \"SMQ140\", \"SMQ170\"],\n",
    "}\n",
    "\n",
    "# \"\"\" Or read from .jsom file, for example: \"\"\"\n",
    "# variables = pynhanes.loader.load_variables(\"./CSV/nhanes_variables.json\")"
   ]
  },
  {
   "cell_type": "markdown",
   "metadata": {},
   "source": [
    "## Load userdata\n",
    "\n",
    "Load data from default places:\n",
    "\n",
    "- `nhanes_userdata.csv` and `nhanes_codebook.csv` in subfolder `./CSV`\n",
    "\n",
    "- `nhanes_counts.npz` and `nhanes_triax.npz` in subfolder `./NPZ`\n"
   ]
  },
  {
   "cell_type": "code",
   "execution_count": null,
   "metadata": {},
   "outputs": [],
   "source": [
    "codebook = CodeBook(variables=variables)\n",
    "nhanes = NhanesLoader()"
   ]
  },
  {
   "cell_type": "markdown",
   "metadata": {},
   "source": [
    "## Plot fraction of smokers/nonsmokers along lifespan\n",
    "\n",
    "Corresponding data field above was named `Smoking status`."
   ]
  },
  {
   "cell_type": "code",
   "execution_count": null,
   "metadata": {},
   "outputs": [],
   "source": [
    "age = nhanes.userdata(\"Age\")\n",
    "status = nhanes.userdata(\"Smoking status\")\n",
    "labels = codebook.dict[\"Smoking status\"]\n",
    "\n",
    "plt.figure(figsize=(8,4), facecolor=\"white\")\n",
    "pynhanes.utils.plot_age_fraction(status, age, labels=labels)\n",
    "plt.xlabel(\"Age\")\n",
    "plt.ylabel(\"Population fraction\")\n",
    "plt.show()"
   ]
  }
 ],
 "metadata": {
  "kernelspec": {
   "display_name": "Python 3 (ipykernel)",
   "language": "python",
   "name": "python3"
  },
  "language_info": {
   "codemirror_mode": {
    "name": "ipython",
    "version": 3
   },
   "file_extension": ".py",
   "mimetype": "text/x-python",
   "name": "python",
   "nbconvert_exporter": "python",
   "pygments_lexer": "ipython3",
   "version": "3.9.13"
  }
 },
 "nbformat": 4,
 "nbformat_minor": 1
}
