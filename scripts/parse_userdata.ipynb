{
 "cells": [
  {
   "cell_type": "code",
   "execution_count": null,
   "metadata": {},
   "outputs": [],
   "source": [
    "%reload_ext autoreload\n",
    "%autoreload 2\n",
    "\n",
    "import numpy as np\n",
    "import pandas as pd\n",
    "import warnings\n",
    "warnings.simplefilter(action='ignore', category=pd.errors.PerformanceWarning)\n",
    "import pynhanes"
   ]
  },
  {
   "cell_type": "markdown",
   "metadata": {},
   "source": [
    "## User-defined dictionary of combined varibles\n",
    "\n",
    "Normally, data analysis does not require all variables from each NHANES category. \n",
    "\n",
    "`pynhanes` expects user to provide a manually created dictionary of needed variables with human-readable names and corresponding combination of variable codes. This can be done in either two ways:\n",
    "\n",
    "a) Hardcoded explicitly (see next cell), or\n",
    "\n",
    "b) Provided in a .json file (see https://github.com/timpyrkov/pynhanes/blob/master/scripts/nhanes_variables.json)\n",
    "\n"
   ]
  },
  {
   "cell_type": "code",
   "execution_count": null,
   "metadata": {},
   "outputs": [],
   "source": [
    "\"\"\" Provide selected variables combinations explicitly: \"\"\"\n",
    "variables = {\n",
    "    \"Age\":                                      [\"RIDAGEYR\"],\n",
    "    \"Gender\":                                   [\"RIAGENDR\"],\n",
    "    \"Survey\":                                   [\"SDDSRVYR\"],\n",
    "    \"Mortality event\":                          [\"MORTSTAT\"],\n",
    "    \"Mortality tte\":                            [\"PERMTH_INT\"],\n",
    "    \"Health general\":                           [\"HSD010\"],\n",
    "    \"Smoking status\":                           [\"SMQ020\", \"SMQ120\", \"SMQ150\"],\n",
    "    \"Smoking regularly\":                        [\"SMD030\", \"SMD130\", \"SMD160\"],\n",
    "    \"Smoking now\":                              [\"SMQ040\", \"SMQ140\", \"SMQ170\"],\n",
    "}\n",
    "\n",
    "# \"\"\" Or read from .jsom file, for example: \"\"\"\n",
    "# variables = pynhanes.loader.load_variables(\"./CSV/nhanes_variables.json\")"
   ]
  },
  {
   "cell_type": "markdown",
   "metadata": {},
   "source": [
    "## Load Codebook and .XPT files"
   ]
  },
  {
   "cell_type": "code",
   "execution_count": null,
   "metadata": {},
   "outputs": [],
   "source": [
    "\"\"\" 1. Load Codebook \"\"\"\n",
    "path = \"./CSV/nhanes_codebook.csv\"\n",
    "codebook = pynhanes.loader.CodeBook(path)\n",
    "codebook = codebook.data\n",
    "\n",
    "\"\"\" 2. Print requred XPT to load\"\"\"\n",
    "# Each XPT can be doanloaded from NHANES website \n",
    "# using wgetxpt.py script (e.g. ./wgetxpt.py DEMO -out XPT)\n",
    "xpts = pynhanes.userdata.list_xpts_missing(variables, codebook)\n",
    "print(xpts)\n",
    "\n",
    "\"\"\" 4. Load and combine XPT \"\"\"\n",
    "data = pynhanes.userdata.load_data(variables, codebook, \"XPT\")\n",
    "\n",
    "\"\"\" 5. Convert data to pandas Dataframe with multiindex columns \"\"\"\n",
    "data = pynhanes.userdata.processing(variables, codebook, data)\n",
    "data.to_csv(\"./CSV/nhanes_userdata.csv\", sep=\";\")\n",
    "data"
   ]
  }
 ],
 "metadata": {
  "kernelspec": {
   "display_name": "Python 3 (ipykernel)",
   "language": "python",
   "name": "python3"
  },
  "language_info": {
   "codemirror_mode": {
    "name": "ipython",
    "version": 3
   },
   "file_extension": ".py",
   "mimetype": "text/x-python",
   "name": "python",
   "nbconvert_exporter": "python",
   "pygments_lexer": "ipython3",
   "version": "3.9.13"
  }
 },
 "nbformat": 4,
 "nbformat_minor": 1
}
